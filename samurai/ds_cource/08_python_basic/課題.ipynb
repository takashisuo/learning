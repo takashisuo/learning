{
 "cells": [
  {
   "cell_type": "markdown",
   "metadata": {},
   "source": [
    "# 3~5章: 基本処理"
   ]
  },
  {
   "cell_type": "markdown",
   "metadata": {},
   "source": [
    "## 課題後の実践1:\n",
    "1. 3つの変数を用いて文字列と数値２つを代入する\n",
    "1. f-stringを用いてすべてをアンダーバーで結合した結果を出力する"
   ]
  },
  {
   "cell_type": "markdown",
   "metadata": {},
   "source": [
    "## 課題後の実践2:\n",
    "1. 変数に四則演算の結果を格納する(varA1～VarA5とする, ただし適切な名前に変更すること)\n",
    "1. 変数に四則演算の何を実施するか文字列で格納する(varBとする, ただし適切な名前に変更すること)\n",
    "1. fを用いて\"加算の結果は40です\"のように出力する。加算や結果の数値は変数で出力すること"
   ]
  },
  {
   "cell_type": "markdown",
   "metadata": {},
   "source": [
    "## 課題語の実践3(応用: 自主調査含む)\n",
    "* 変数に浮動小数点数(小数点3桁以上)を代入してください。\n",
    "* fを用いてprintしてください。その際、小数点第二位まで表示するようにしてください。表示方法は調査してください。"
   ]
  },
  {
   "cell_type": "markdown",
   "metadata": {},
   "source": [
    "## 課題語の実践4(応用: 自主調査含む)\n",
    "* 変数に整数(1~3桁)を代入してください。このように1~3桁の変数を複数作成してください。\n",
    "* fを用いてprintしてください。その際、5桁まで表示するようにしてください。表示方法は調査してください。"
   ]
  },
  {
   "cell_type": "markdown",
   "metadata": {},
   "source": [
    "# 6-7章: list/set/dict"
   ]
  },
  {
   "cell_type": "markdown",
   "metadata": {},
   "source": [
    "## 課題後の実践1:\n",
    "1. リストに整数・浮動小数点数・文字列をそれぞれ格納してください。その結果をprintしてください。\n",
    "1. リストに入れた各値を変数に格納し、それぞれの型(type)をprintしてください。"
   ]
  },
  {
   "cell_type": "markdown",
   "metadata": {},
   "source": [
    "## 課題後の実践2:\n",
    "1. リストに数値データ(1,2,3,4,5)を格納し、最初と最後のインデックスを指して値を変数に格納してください。\n",
    "1. その結果をprint(f)を用いて出力してください。\n"
   ]
  },
  {
   "cell_type": "markdown",
   "metadata": {},
   "source": [
    "## 課題後の実践3:\n",
    "1. 空のリストを定義してください。任意の文字列データを4つ変数へ格納してください。それらの変数をリストへ追加してください。\n",
    "1. その後、最初のデータを削除してください。その結果をprint(f)を用いて出力してください。\n"
   ]
  },
  {
   "cell_type": "markdown",
   "metadata": {},
   "source": [
    "## 課題後の実践4:\n",
    "1. tupleに4つ値を格納してください。そこから最初と最後の値を変数に格納し、print(f)で出力してください。\n",
    "1. tupleの型(type)を出力してください。\n"
   ]
  },
  {
   "cell_type": "markdown",
   "metadata": {},
   "source": [
    "## 課題後の実践5:\n",
    "1. setに数値データ: 1, 3, 6, 9, 6, 10, 11, 1, 3, 12, 10, 9を格納し、要素数を出力してください。\n",
    "    1. 要素数はそのままカウントしてもよいですし、len()という関数を使ってもよいです。\n",
    "    1. 参考) 実務ではlenを多用します。\n",
    "1. setに文字列データ: 'A', 'B', 'C', 'D', 'E'を5つ登録してください。このsetに'Z'を追加してください。その後、'A'を削除してください。その結果をprint(f)を用いて書式で出力してください"
   ]
  },
  {
   "cell_type": "markdown",
   "metadata": {},
   "source": [
    "## 課題後の実践6(応用):\n",
    "1. 空のlistを定義してください。そのlistに対して、任意の値を格納したset, 任意の値を格納したtuple, 任意の値を格納したlist, 任意のdictionaryを追加してください。そのlistをprint(f)を用いて出力してください。\n",
    "1. (続き) 3番目の値を変数に格納し、typeを確認してください。"
   ]
  },
  {
   "cell_type": "markdown",
   "metadata": {},
   "source": [
    "# 8章: if文"
   ]
  },
  {
   "cell_type": "markdown",
   "metadata": {},
   "source": [
    "## 課題後の実践1:\n",
    "1. pythonの比較演算子('==', '!=', '>', '<', '>=', '<=')をすべて検証してください。\n",
    "1. 例: 変数に値を入れる。その値と別の値を比較し、それぞれの比較演算子を満たす場合はprintを出力する。"
   ]
  },
  {
   "cell_type": "markdown",
   "metadata": {},
   "source": [
    "## 課題後の実践2:\n",
    "1. 数値を入力し、その数値が正の数なら\"正の数(2)です\"、負の数なら\"負の数(-5)です\"、0なら\"0です\"と出力するプログラムを作成してください。()内の数値はfで出力してください。\n",
    "2. 入力は変数にそのまま入れてもよいですし、input()を用いてもよいです。ただし数値の場合はintやfloatへの変換が必要です。"
   ]
  },
  {
   "cell_type": "markdown",
   "metadata": {},
   "source": [
    "## 課題後の実践3:\n",
    "1. 年齢を入力し、20歳以上なら\"成人です\"、20歳未満なら\"未成年です\"と出力するプログラムを作成してください。"
   ]
  },
  {
   "cell_type": "markdown",
   "metadata": {},
   "source": [
    "## 課題後の実践4:\n",
    "1. 2つの数値を入力し、大きい方の数値を出力するプログラムを作成してください。ただし、2つの数値が同じ場合は\"同じ値です\"と出力してください。"
   ]
  },
  {
   "cell_type": "markdown",
   "metadata": {},
   "source": [
    "## 課題後の実践5:\n",
    "- 西暦の年を入力し、その年がうるう年かどうかを判定するプログラムを作成してください。うるう年の条件は以下です。\n",
    "    - 西暦年が4で割り切れる年はうるう年\n",
    "    - ただし、100で割り切れる年はうるう年ではない\n",
    "    - しかし、400で割り切れる年はうるう年 となります。\n",
    "- ヒント: 条件文の優先事項が何かに注意してください。\n"
   ]
  },
  {
   "cell_type": "markdown",
   "metadata": {},
   "source": [
    "# 9-11章: for, while, 配列・辞書の繰り返し"
   ]
  },
  {
   "cell_type": "markdown",
   "metadata": {},
   "source": [
    "## 実践1\n",
    "* 1から20までの数字を出力するプログラムを作成してください。ただし、5の倍数の場合は'Fizz'と出力してください。"
   ]
  },
  {
   "cell_type": "markdown",
   "metadata": {},
   "source": [
    "## 実践2\n",
    "* リストの要素を1つずつ表示するプログラムを作成してください。ただし、要素が'q'の場合は繰り返しを終了してください。"
   ]
  },
  {
   "cell_type": "markdown",
   "metadata": {},
   "source": [
    "## 実践3\n",
    "* 1から100までの数字を出力するプログラムを作成してください。ただし、3の倍数の場合は'Fizz'、5の倍数の場合は'Buzz'、3と5の公倍数の場合は'FizzBuzz'と出力してください。"
   ]
  },
  {
   "cell_type": "markdown",
   "metadata": {},
   "source": [
    "## 実践4\n",
    "* 文字列(英語)を入力として受け取り、その文字列内の母音の数を数えるプログラムを作成してください。ただし、大文字と小文字は区別しないものとします。"
   ]
  },
  {
   "cell_type": "markdown",
   "metadata": {},
   "source": [
    "## 実践5\n",
    "* 2つのリストを作成し、forを重ねて実行してください。その結果をprintしてください。"
   ]
  },
  {
   "cell_type": "markdown",
   "metadata": {},
   "source": [
    "## 実践6\n",
    "* 2つのリストをforで回し、それらをtupleとして新しいリストへ格納するプログラムを作成してください。"
   ]
  },
  {
   "cell_type": "markdown",
   "metadata": {},
   "source": [
    "## 実践7\n",
    "* リストに数字を複数入力し、入力した数字の合計値が100を超えたら繰り返しを終了するプログラムを作成してください。inputとint変換を使うとわかりやすいです。"
   ]
  },
  {
   "cell_type": "markdown",
   "metadata": {},
   "source": [
    "## 実践8\n",
    "* 与えられたディクショナリーから、値が偶数のキーと値のペアのみを新しいディクショナリーとして出力するプログラムを作成してください。"
   ]
  },
  {
   "cell_type": "markdown",
   "metadata": {},
   "source": [
    "# 12-13章: 関数"
   ]
  },
  {
   "cell_type": "markdown",
   "metadata": {},
   "source": [
    "## 実践1\n",
    "* 引数として与えられたリストから、偶数のみを抽出する関数を作成してください。"
   ]
  },
  {
   "cell_type": "markdown",
   "metadata": {},
   "source": [
    "## 実践2\n",
    "* 辞書の値に対して、その値が10以上の場合は'large'、5以上10未満の場合は'medium'、5未満の場合は'small'と返す関数を作成してください。"
   ]
  },
  {
   "cell_type": "markdown",
   "metadata": {},
   "source": [
    "## 実践3\n",
    "* 整数のリストと整数の閾値を引数として受け取り、リスト内の要素がその閾値以上の場合は'True'、そうでない場合は'False'を返すリストを作成する関数を作成してください。"
   ]
  },
  {
   "cell_type": "markdown",
   "metadata": {},
   "source": [
    "## 実践4（一部応用）\n",
    "* 2つのリストを受け取り、それらの共通する要素のみを含む新しいリストを返す関数を作成してください。\n",
    "    * ヒント: ある値がとあるリストに格納されているかは、 if varA in List のような記法で実現できます。"
   ]
  },
  {
   "cell_type": "markdown",
   "metadata": {},
   "source": [
    "## 実践5:\n",
    "* 生徒のユーザー名をキー、点数を値とする辞書を渡したら最高点のユーザー名と点数(tuple)を1度に返す関数を作成してください。そしてその結果を受け取ってprint(f)してください。"
   ]
  },
  {
   "cell_type": "markdown",
   "metadata": {},
   "source": [
    "## 実践6(応用):\n",
    "以下のような関数を定義してください。\n",
    "\n",
    "- 関数名: calculate_result\n",
    "- 引数1: num1 (整数)\n",
    "- 引数2: num2 (整数)\n",
    "- 引数3: operation (文字列、デフォルト値は \"add\")。デフォルト値の設定方法は講義外です。実務でデフォルト値は頻繁に利用するので調査してみてください。\n",
    "\n",
    "この関数は以下の処理を行います。\n",
    "\n",
    "operation の値が \"add\" の場合、num1 と num2 を足した値を返す。\n",
    "\n",
    "operation の値が \"subtract\" の場合、num1 から num2 を引いた値を返す。\n",
    "\n",
    "operation の値が \"multiply\" の場合、num1 と num2 を掛けた値を返す。\n",
    "\n",
    "operation の値が \"divide\" の場合、num1 を num2 で割った値を返す。(num2 が0の場合は \"Cannot divide by zero\" と返す)\n",
    "\n",
    "operation の値がそれ以外の場合は \"Invalid operation\" と返す。\n",
    "\n",
    "また、この関数を使って以下の呼び出しを行い、期待される出力を確認してください。\n",
    "\n",
    "* calculate_result(10, 5) --> 15 (加算のデフォルト動作)\n",
    "* calculate_result(10, 5, \"subtract\") --> 5 (減算)\n",
    "* calculate_result(10, 5, \"multiply\") --> 50 (乗算)\n",
    "* calculate_result(10, 2, \"divide\") --> 5.0 (除算)\n",
    "* calculate_result(10, 0, \"divide\") --> \"Cannot divide by zero\"\n",
    "* calculate_result(10, 5, \"invalid\") --> \"Invalid operation\""
   ]
  },
  {
   "cell_type": "markdown",
   "metadata": {},
   "source": [
    "## 実践7\n",
    "* 問題: 文字列の置換と長さの取得\n",
    "\n",
    "    この問題では、与えられた文字列内の特定の文字を別の文字に置換し、置換後の文字列と文字列の長さを返す関数を作成します。\n",
    "\n",
    "    modify_string関数を作成してください。この関数は以下の3つの引数を受け取ります。\n",
    "\n",
    "    original_str (str): 元の文字列\n",
    "    old_char (str): 置換する文字\n",
    "    new_char (str): 置換後の文字\n",
    "\n",
    "\n",
    "    modify_string関数内で以下の処理を行ってください。\n",
    "\n",
    "    original_str内のold_charをnew_charに置換した新しい文字列modified_strを作成する\n",
    "    modified_strの長さlengthを取得する\n",
    "\n",
    "\n",
    "    modify_string関数から、modified_strとlengthの2つの値を返してください。\n",
    "    以下のようにしてmodify_string関数を呼び出し、戻り値を受け取ってください。\n",
    "    pythonCopy coderesult_str, result_length = modify_string(\"Hello, World!\", \"l\", \"x\")\n",
    "    print(\"置換後の文字列:\", result_str)\n",
    "    print(\"文字列の長さ:\", result_length)\n",
    "\n",
    "    出力は次のようになります。\n",
    "    Copy code置換後の文字列: Hexxo, Worxd!\n",
    "    文字列の長さ: 13"
   ]
  },
  {
   "cell_type": "markdown",
   "metadata": {},
   "source": [
    "# 14章: 変数のスコープ"
   ]
  },
  {
   "cell_type": "markdown",
   "metadata": {},
   "source": [
    "# 実践1:\n",
    "* 次のコードでは、エラーが発生します。原因を説明し、修正した上で正しく動作するようにコードを書き換えてください。\n",
    "\n",
    "\n",
    "```\n",
    "def my_func(lst):\n",
    "    even_lst = []\n",
    "    for num in lst:\n",
    "        if num % 2 == 0:\n",
    "            even_lst.append(num)\n",
    "    return even_lst\n",
    "\n",
    "my_list = [1, 2, 3, 4, 5]\n",
    "result = my_func(my_list)\n",
    "print(f\"Original list: {my_list}\")\n",
    "print(f\"Even numbers: {even_lst}\")\n",
    "```\n"
   ]
  },
  {
   "cell_type": "markdown",
   "metadata": {},
   "source": [
    "# 実践2\n",
    "* 次のコードでは、グローバル変数とローカル変数の両方を使用しています。出力はどうなるでしょうか?結果を説明してください。また、コードはコピーせず手で打ち込んでください。"
   ]
  },
  {
   "cell_type": "markdown",
   "metadata": {},
   "source": [
    "# 15章: class"
   ]
  },
  {
   "cell_type": "markdown",
   "metadata": {},
   "source": [
    "## 実践15-1:\n",
    "* Personクラスを定義し、以下の条件を満たすようにしてください。\n",
    "* コンストラクタでは、名前(name)と年齢(age)を受け取る\n",
    "greet()メソッドを定義し、\"Hello, my name is [名前]\"と出力する\n",
    "* get_year_of_birth()メソッドを定義し、現在年(2024年)から年齢を引いた値を返す"
   ]
  },
  {
   "cell_type": "markdown",
   "metadata": {},
   "source": [
    "## 実践15-2:\n",
    "* BankAccountクラスを定義し、以下の条件を満たすようにしてください。\n",
    "\n",
    "* コンストラクタでは、口座番号(account_number)と残高(balance)を受け取る\n",
    "* deposit(amount)メソッドを定義し、指定された金額を残高に加える\n",
    "* withdraw(amount)メソッドを定義し、指定された金額を残高から引く(残高が不足している場合は\"Insufficient balance\"と出力する)\n",
    "* get_balance()メソッドを定義し、現在の残高を返す"
   ]
  },
  {
   "cell_type": "markdown",
   "metadata": {},
   "source": [
    "## 実践15-3:\n",
    "* Rectangleという以下のクラスを定義し、メソッドを呼び出してください。\n",
    "* コンストラクタでは、幅(width)と高さ(height)を受け取る\n",
    "calculate_area()メソッドを定義し、長方形の面積を計算して返す\n",
    "* calculate_perimeter()メソッドを定義し、長方形の周囲長を計算して返す\n",
    "* double_size()メソッドを定義し、幅と高さを2倍にする"
   ]
  },
  {
   "cell_type": "markdown",
   "metadata": {},
   "source": [
    "## 実践15-4\n",
    "* Studentクラスを定義し、以下の条件を満たすようにしてください。\n",
    "* コンストラクタでは、名前(name)と年齢(age)を受け取る\n",
    "add_grade(subject, grade)メソッドを定義し、受け取った科目(subject)と成績(grade)をdictionary形式で保存する\n",
    "* get_grades()メソッドを定義し、保存された全ての科目と成績をdictionaryとして返す\n",
    "* get_average_grade()メソッドを定義し、全ての科目の平均点を計算して返す"
   ]
  },
  {
   "cell_type": "markdown",
   "metadata": {},
   "source": []
  }
 ],
 "metadata": {
  "kernelspec": {
   "display_name": "samurai",
   "language": "python",
   "name": "python3"
  },
  "language_info": {
   "codemirror_mode": {
    "name": "ipython",
    "version": 3
   },
   "file_extension": ".py",
   "mimetype": "text/x-python",
   "name": "python",
   "nbconvert_exporter": "python",
   "pygments_lexer": "ipython3",
   "version": "3.11.8"
  }
 },
 "nbformat": 4,
 "nbformat_minor": 2
}
